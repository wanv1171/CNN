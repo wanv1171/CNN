{
 "cells": [
  {
   "cell_type": "code",
   "execution_count": null,
   "metadata": {},
   "outputs": [],
   "source": [
    "import tensorflow as tf\n",
    "import numpy as np\n",
    "import pickle\n",
    "import os"
   ]
  },
  {
   "cell_type": "markdown",
   "metadata": {},
   "source": [
    "Getting the Data\n",
    "------"
   ]
  },
  {
   "cell_type": "code",
   "execution_count": null,
   "metadata": {},
   "outputs": [],
   "source": [
    "CIFAR_DIR = 'C:/Users/brian/Desktop/TensorFlow/cifar-10-batches-py'\n",
    "\n",
    "def load_data(filename):\n",
    "    \"\"\" READ DATA FROM BATCH FILES \"\"\"\n",
    "    with open(filename, \"rb\") as file:\n",
    "        data = pickle.load(file, encoding=\"bytes\")\n",
    "\n",
    "        d_decoded = {}\n",
    "        for k, v in data.items():\n",
    "            d_decoded[k.decode('utf8')] = v\n",
    "\n",
    "        data = d_decoded\n",
    "\n",
    "    return(data['data'], data['labels'])\n",
    "\n",
    "class CifarData:\n",
    "    def __init__(self, filenames, need_shuffle):\n",
    "        all_data = []\n",
    "        all_labels = []\n",
    "\n",
    "        for filename in filenames:\n",
    "            data, labels = load_data(filename)\n",
    "            for item, label in zip(data, labels):\n",
    "                all_data.append(item)\n",
    "                all_labels.append(label)\n",
    "                \n",
    "        self._data = np.vstack(all_data)\n",
    "        self._data = self._data / 127.5 - 1\n",
    "        self._labels = np.hstack(all_labels)\n",
    "        self._num_examples = self._data.shape[0]\n",
    "        self._need_shuffle = need_shuffle\n",
    "        self._indicator = 0\n",
    "\n",
    "        if(self._need_shuffle):\n",
    "            self.shuffle_data()\n",
    "\n",
    "    def shuffle_data(self):\n",
    "        p = np.random.permutation(self._num_examples)\n",
    "        self._data = self._data[p]\n",
    "        self._labels = self._labels[p]\n",
    "\n",
    "    def next_batch(self, batch_size):\n",
    "        end_indicator = self._indicator + batch_size\n",
    "\n",
    "        if(end_indicator > self._num_examples):\n",
    "            if (self._need_shuffle):\n",
    "                self.shuffle_data()\n",
    "                self._indicator = 0\n",
    "                end_indicator = batch_size\n",
    "            else:\n",
    "                raise Exception(\"no more data\")\n",
    "        \n",
    "        if (end_indicator > self._num_examples):\n",
    "            raise Exception(\"Batch Size Too Large\")\n",
    "\n",
    "        batch_data = self._data[self._indicator: end_indicator]\n",
    "        batch_labels = self._labels[self._indicator: end_indicator]\n",
    "\n",
    "        self._indicator = end_indicator\n",
    "        return(batch_data, batch_labels)"
   ]
  },
  {
   "cell_type": "code",
   "execution_count": null,
   "metadata": {},
   "outputs": [],
   "source": [
    "train_filenames = [os.path.join(CIFAR_DIR,'data_batch_%d' % i) for i in range(1, 6)]\n",
    "test_filenames = [os.path.join(CIFAR_DIR, 'test_batch')]\n",
    "\n",
    "train_data = CifarData(train_filenames, True)\n",
    "test_data = CifarData(test_filenames, False)"
   ]
  },
  {
   "cell_type": "markdown",
   "metadata": {},
   "source": [
    "Getting the Model\n",
    "------"
   ]
  },
  {
   "cell_type": "markdown",
   "metadata": {},
   "source": [
    "### Residual"
   ]
  },
  {
   "cell_type": "code",
   "execution_count": null,
   "metadata": {},
   "outputs": [],
   "source": [
    "def residual_block(x, output_channel):\n",
    "    \"residual connection implementation\"\n",
    "    \n",
    "    input_channel = x.get_shape().as_list()[-1]\n",
    "    \n",
    "    if input_channel * 2 == output_channel:\n",
    "        increase_dim = True\n",
    "        strides = (2, 2)\n",
    "    elif input_channel == output_channel:\n",
    "        increase_dim = False\n",
    "        strides = (1, 1)\n",
    "    else:\n",
    "        raise Exception(\"Input Channel Can't Match Output Channel\")\n",
    "        \n",
    "    conv1 = tf.layers.conv2d(x, output_channel, (3, 3), strides = strides, padding = \"SAME\", \n",
    "                             activation = tf.nn.relu, name=\"conv1\")\n",
    "    \n",
    "    conv2 = tf.layers.conv2d(conv1, output_channel, (3, 3), strides = (1, 1), padding = \"SAME\", \n",
    "                             activation = tf.nn.relu, name=\"conv2\")\n",
    "    \n",
    "    if increase_dim:\n",
    "        pooled_x = tf.layers.average_pooling2d(x, (2, 2), (2, 2), padding = \"VALID\")\n",
    "        \n",
    "        padded_x = tf.pad(pooled_x, [[0, 0],[0, 0],[0, 0],[input_channel // 2, input_channel // 2]])\n",
    "        \n",
    "    else:\n",
    "        padded_x = x\n",
    "        \n",
    "    return(conv2 + padded_x)\n",
    "    "
   ]
  },
  {
   "cell_type": "code",
   "execution_count": null,
   "metadata": {},
   "outputs": [],
   "source": [
    "def res_net(x, num_residual_blocks, num_filter_base, class_num):\n",
    "    num_subsampling = len(num_residual_blocks)\n",
    "    layers = []\n",
    "    input_size = x.get_shape().as_list()[1:]\n",
    "    \n",
    "    with tf.variable_scope('conv0'):\n",
    "        conv0 = tf.layers.conv2d(x, num_filter_base, (3, 3), strides = (1, 1), padding = \"SAME\", \n",
    "                                 activation = tf.nn.relu, name = \"conv0\")\n",
    "        \n",
    "        layers.append(conv0)\n",
    "    \n",
    "    for i in range(num_subsampling):\n",
    "        for j in range(num_residual_blocks[i]):\n",
    "            with tf.variable_scope(\"conv%d_%d\" % (i, j)):\n",
    "                conv = residual_block(layers[-1], num_filter_base * (2 ** i))\n",
    "                \n",
    "                layers.append(conv)\n",
    "                \n",
    "    multiplier = 2 ** (num_subsampling - 1)\n",
    "    \n",
    "    assert layers[-1].get_shape().as_list()[1:] == [input_size[0] / multiplier, \n",
    "                                                    input_size[1] / multiplier, \n",
    "                                                    num_filter_base * multiplier]\n",
    "    \n",
    "    with tf.variable_scope('fc'):\n",
    "        global_pool = tf.reduce_mean(layers[-1], [1, 2])\n",
    "        \n",
    "        logits = tf.layers.dense(global_pool, class_num)\n",
    "        layers.append(logits)\n",
    "        \n",
    "    return layers[-1]\n",
    "    "
   ]
  },
  {
   "cell_type": "code",
   "execution_count": null,
   "metadata": {},
   "outputs": [],
   "source": [
    "x = tf.placeholder(tf.float32, [None, 3072]) \n",
    "y = tf.placeholder(tf.int64, [None])\n",
    "\n",
    "x_image = tf.reshape(x, [-1, 3, 32, 32])\n",
    "x_image = tf.transpose(x_image, perm=[0, 2, 3, 1])\n",
    "\n",
    "y_ = res_net(x_image, [2, 3, 2], 32, 10)"
   ]
  },
  {
   "cell_type": "markdown",
   "metadata": {},
   "source": [
    "### Defining Loss Function and Optimizer"
   ]
  },
  {
   "cell_type": "code",
   "execution_count": null,
   "metadata": {},
   "outputs": [],
   "source": [
    "loss = tf.losses.sparse_softmax_cross_entropy(labels = y, logits = y_)\n",
    "\n",
    "predict = tf.argmax(y_, 1)\n",
    "correct_prediction = tf.equal(predict, y)\n",
    "\n",
    "accuracy = tf.reduce_mean(tf.cast(correct_prediction, tf.float64))\n",
    "\n",
    "with tf.name_scope('train_op'):\n",
    "    train_op = tf.train.AdamOptimizer(1e-3).minimize(loss)\n",
    "\n",
    "init = tf.global_variables_initializer()"
   ]
  },
  {
   "cell_type": "markdown",
   "metadata": {},
   "source": [
    "### Define Global Train/Test Steps and Start the Model"
   ]
  },
  {
   "cell_type": "code",
   "execution_count": null,
   "metadata": {},
   "outputs": [],
   "source": [
    "batch_size = 20\n",
    "train_steps = 10000\n",
    "\n",
    "test_steps = 200\n",
    "\n",
    "with tf.Session() as sess:\n",
    "    sess.run(init)\n",
    "    for i in range(train_steps):\n",
    "        batch_data, batch_labels = train_data.next_batch(batch_size)\n",
    "        loss_val, accu_val, _ = sess.run(\n",
    "            [loss, accuracy, train_op], \n",
    "            feed_dict={\n",
    "                x: batch_data, \n",
    "                y: batch_labels})\n",
    "\n",
    "        if (i+1) % 100 == 0:\n",
    "            print('[Train] Step: %d, loss: %4.5f, acc: %4.5f' \\\n",
    "                % (i+1, loss_val, accu_val))\n",
    "\n",
    "        if (i+1) % 1000 == 0:\n",
    "            test_data = CifarData(test_filenames, False)\n",
    "            all_test_acc_val = [] \n",
    "\n",
    "            for j in range(test_steps):\n",
    "                test_batch_data, test_batch_labels = test_data.next_batch(batch_size)\n",
    "                test_acc_val = sess.run(\n",
    "                    [accuracy],\n",
    "                    feed_dict = {\n",
    "                        x: test_batch_data, \n",
    "                        y: test_batch_labels\n",
    "                })\n",
    "\n",
    "                all_test_acc_val.append(test_acc_val)   \n",
    "\n",
    "            test_acc = np.mean(all_test_acc_val)\n",
    "\n",
    "            print('[Test] Step: %d, Overall Acc: %4.5f' % (i+1, test_acc))"
   ]
  },
  {
   "cell_type": "code",
   "execution_count": null,
   "metadata": {},
   "outputs": [],
   "source": []
  }
 ],
 "metadata": {
  "kernelspec": {
   "display_name": "Python 3",
   "language": "python",
   "name": "python3"
  },
  "language_info": {
   "codemirror_mode": {
    "name": "ipython",
    "version": 3
   },
   "file_extension": ".py",
   "mimetype": "text/x-python",
   "name": "python",
   "nbconvert_exporter": "python",
   "pygments_lexer": "ipython3",
   "version": "3.6.7"
  }
 },
 "nbformat": 4,
 "nbformat_minor": 2
}
